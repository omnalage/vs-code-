{
 "cells": [
  {
   "cell_type": "code",
   "execution_count": null,
   "id": "38c365dd",
   "metadata": {},
   "outputs": [],
   "source": [
    "import cv2\n",
    "import numpy as np\n",
    "import matplotlib.pyplot as plt\n",
    "\n",
    "# Load the image in grayscale\n",
    "image = cv2.imread('morf_test.png', cv2.IMREAD_GRAYSCALE)\n",
    "\n",
    "# Step 1: Use morphological operations to estimate background\n",
    "kernel = cv2.getStructuringElement(cv2.MORPH_RECT, (25, 25))  # Adjust size based on noise/letters\n",
    "background = cv2.morphologyEx(image, cv2.MORPH_CLOSE, kernel)  # Use closing to estimate background\n",
    "\n",
    "# Step 2: Subtract background\n",
    "subtracted = cv2.subtract(background, image)\n",
    "\n",
    "# Optional: Top-hat or bottom-hat as alternative preprocessing\n",
    "# top_hat = cv2.morphologyEx(image, cv2.MORPH_TOPHAT, kernel)\n",
    "# bottom_hat = cv2.morphologyEx(image, cv2.MORPH_BLACKHAT, kernel)\n",
    "\n",
    "# Step 3: Global thresholding\n",
    "_, thresh = cv2.threshold(subtracted, 0, 255, cv2.THRESH_BINARY + cv2.THRESH_OTSU)\n",
    "\n",
    "# Step 4: Noise removal (optional)\n",
    "cleaned = cv2.medianBlur(thresh, 3)  # or use morphological opening\n",
    "\n",
    "# Step 5: Morphological operations to close gaps and separate/merge symbols\n",
    "kernel2 = cv2.getStructuringElement(cv2.MORPH_RECT, (3, 3))\n",
    "morphed = cv2.morphologyEx(cleaned, cv2.MORPH_CLOSE, kernel2)\n",
    "\n",
    "# Show the stages\n",
    "titles = ['Original', 'Background', 'Subtracted', 'Thresholded', 'Cleaned', 'Morphed']\n",
    "images = [image, background, subtracted, thresh, cleaned, morphed]\n",
    "\n",
    "for i in range(6):\n",
    "    plt.subplot(2, 3, i + 1)\n",
    "    plt.imshow(images[i], cmap='gray')\n",
    "    plt.title(titles[i])\n",
    "    plt.axis('off')\n",
    "\n",
    "plt.tight_layout()\n",
    "plt.show()"
   ]
  }
 ],
 "metadata": {
  "language_info": {
   "name": "python"
  }
 },
 "nbformat": 4,
 "nbformat_minor": 5
}
