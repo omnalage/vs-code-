{
 "cells": [
  {
   "cell_type": "code",
   "execution_count": 1,
   "id": "0a9cbf7d-de60-45ef-a9d2-38e626df6986",
   "metadata": {},
   "outputs": [],
   "source": [
    "import cv2\n",
    "import numpy as np\n",
    "\n",
    "image = cv2.imread(\"lenna.png\")\n",
    "\n",
    "scale_factor = 2     #let the scale factor be 2\n",
    "\n",
    "new_size = (image.shape[1]*scale_factor,image.shape[0]*scale_factor)\n",
    "\n",
    "NNI = cv2.resize(image,new_size,interpolation = cv2.INTER_NEAREST)\n",
    "BLI = cv2.resize(image,new_size,interpolation = cv2.INTER_LINEAR)\n",
    "\n",
    "cv2.imshow(\"Origional Image\",image)\n",
    "cv2.imshow(\"Nearest Neighbor Interpolation Image\",NNI)\n",
    "cv2.imshow(\"Bilinear Interpolation Image\",BLI)\n",
    "\n",
    "cv2.waitKey(0)\n",
    "cv2.destroyAllWindows()"
   ]
  },
  {
   "cell_type": "code",
   "execution_count": null,
   "id": "aadb2cad-d654-44a8-9aa4-50e406f7fdab",
   "metadata": {},
   "outputs": [],
   "source": []
  }
 ],
 "metadata": {
  "kernelspec": {
   "display_name": "Python 3",
   "language": "python",
   "name": "python3"
  },
  "language_info": {
   "codemirror_mode": {
    "name": "ipython",
    "version": 3
   },
   "file_extension": ".py",
   "mimetype": "text/x-python",
   "name": "python",
   "nbconvert_exporter": "python",
   "pygments_lexer": "ipython3",
   "version": "3.12.2"
  }
 },
 "nbformat": 4,
 "nbformat_minor": 5
}
