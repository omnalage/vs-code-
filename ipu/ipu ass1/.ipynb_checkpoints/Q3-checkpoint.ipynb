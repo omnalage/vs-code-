{
 "cells": [
  {
   "cell_type": "code",
   "execution_count": 10,
   "id": "b5b202f8-f171-4655-bdad-e5b3acd0a768",
   "metadata": {},
   "outputs": [],
   "source": [
    "import cv2\n",
    "import numpy as np\n",
    "\n",
    "# Load the color image\n",
    "image = cv2.imread(\"home.jpg\")\n",
    "\n",
    "# Convert BGR to HSV (OpenCV uses HSV instead of HSI)\n",
    "hsv = cv2.cvtColor(image, cv2.COLOR_BGR2HSV)\n",
    "\n",
    "# Apply histogram equalization on the Value (V) channel\n",
    "hsv[:, :, 2] = cv2.equalizeHist(hsv[:, :, 2])\n",
    "\n",
    "# Convert back to BGR\n",
    "equalized_image = cv2.cvtColor(hsv, cv2.COLOR_HSV2BGR)\n",
    "\n",
    "# Display the result\n",
    "cv2.imshow(\"Histogram Equalized (HSV Model)\", equalized_image)\n",
    "cv2.waitKey(0)\n",
    "cv2.destroyAllWindows()"
   ]
  },
  {
   "cell_type": "code",
   "execution_count": 11,
   "id": "87217fb0-fab5-4a11-a4d1-8c0b5b5fdb78",
   "metadata": {},
   "outputs": [],
   "source": [
    "# Load the color image\n",
    "image = cv2.imread(\"sunset.jpg\")\n",
    "\n",
    "# Function to apply gamma correction\n",
    "def gamma_correction(image, gamma):\n",
    "    inv_gamma = 1.0 / gamma\n",
    "    table = np.array([(i / 255.0) ** inv_gamma * 255 for i in range(256)]).astype(\"uint8\")\n",
    "    return cv2.LUT(image, table)\n",
    "\n",
    "# Apply gamma correction with different values\n",
    "gamma_values = [0.5, 1.5, 2.2]\n",
    "\n",
    "for gamma in gamma_values:\n",
    "    corrected = gamma_correction(image, gamma)\n",
    "    cv2.imshow(f\"Gamma {gamma}\", corrected)\n",
    "    cv2.waitKey(0)\n",
    "\n",
    "cv2.destroyAllWindows()"
   ]
  },
  {
   "cell_type": "code",
   "execution_count": 12,
   "id": "8ae085f4-ed3b-46ad-be02-f2ee1d58235c",
   "metadata": {},
   "outputs": [],
   "source": [
    "image = cv2.imread(\"sunset.jpg\")\n",
    "\n",
    "hsv = cv2.cvtColor(image, cv2.COLOR_BGR2HSV)\n",
    "\n",
    "# Apply histogram equalization on the Value (V) channel\n",
    "hsv[:, :, 2] = cv2.equalizeHist(hsv[:, :, 2])\n",
    "\n",
    "equalized_sunset = cv2.cvtColor(hsv, cv2.COLOR_HSV2BGR)\n",
    "\n",
    "cv2.imshow(\"Histogram Equalized Sunset (HSV Model)\", equalized_sunset)\n",
    "cv2.waitKey(0)\n",
    "cv2.destroyAllWindows()"
   ]
  },
  {
   "cell_type": "code",
   "execution_count": null,
   "id": "75994798-fb24-4b06-8570-31d0130ccf9c",
   "metadata": {},
   "outputs": [],
   "source": []
  }
 ],
 "metadata": {
  "kernelspec": {
   "display_name": "Python 3",
   "language": "python",
   "name": "python3"
  },
  "language_info": {
   "codemirror_mode": {
    "name": "ipython",
    "version": 3
   },
   "file_extension": ".py",
   "mimetype": "text/x-python",
   "name": "python",
   "nbconvert_exporter": "python",
   "pygments_lexer": "ipython3",
   "version": "3.12.6"
  }
 },
 "nbformat": 4,
 "nbformat_minor": 5
}
