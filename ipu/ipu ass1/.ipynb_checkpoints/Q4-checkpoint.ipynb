{
 "cells": [
  {
   "cell_type": "code",
   "execution_count": 1,
   "id": "9d469ee6-f40a-48c0-be3d-24d214eee9fb",
   "metadata": {},
   "outputs": [
    {
     "name": "stdout",
     "output_type": "stream",
     "text": [
      "Optimum kernel size for noise.tif: 5\n"
     ]
    }
   ],
   "source": [
    "import cv2\n",
    "import numpy as np\n",
    "\n",
    "# Load the images\n",
    "noise_image = cv2.imread(\"noise.tif\", cv2.IMREAD_GRAYSCALE)\n",
    "car_image = cv2.imread(\"car.png\", cv2.IMREAD_GRAYSCALE)\n",
    "\n",
    "# Function to apply spatial domain averaging filter\n",
    "def averaging_filter(image, kernel_size):\n",
    "    kernel = np.ones((kernel_size, kernel_size), np.float32) / (kernel_size * kernel_size)\n",
    "    output = cv2.filter2D(image, -1, kernel)\n",
    "    return output\n",
    "\n",
    "# Function to apply weighted averaging filter\n",
    "def weighted_averaging_filter(image, kernel_size):\n",
    "    kernel = cv2.getGaussianKernel(kernel_size, sigma=kernel_size/6)\n",
    "    kernel = kernel * kernel.T  # Convert 1D Gaussian kernel to 2D\n",
    "    kernel /= np.sum(kernel)  # Normalize kernel\n",
    "    output = cv2.filter2D(image, -1, kernel)\n",
    "    return output\n",
    "\n",
    "# Function to apply median filter manually (without inbuilt function)\n",
    "def median_filter(image, kernel_size):\n",
    "    pad = kernel_size // 2  # Padding for valid neighborhood\n",
    "    padded_image = cv2.copyMakeBorder(image, pad, pad, pad, pad, cv2.BORDER_REFLECT)\n",
    "    output = np.zeros_like(image)\n",
    "\n",
    "    for i in range(image.shape[0]):\n",
    "        for j in range(image.shape[1]):\n",
    "            # Extract local region\n",
    "            region = padded_image[i:i+kernel_size, j:j+kernel_size]\n",
    "            # Compute median\n",
    "            output[i, j] = np.median(region)\n",
    "\n",
    "    return output\n",
    "\n",
    "# Apply filters to both images with 3x3 and 5x5 kernels\n",
    "kernel_sizes = [3, 5]\n",
    "for k in kernel_sizes:\n",
    "    avg_noise = averaging_filter(noise_image, k)\n",
    "    avg_car = averaging_filter(car_image, k)\n",
    "\n",
    "    weighted_avg_noise = weighted_averaging_filter(noise_image, k)\n",
    "    weighted_avg_car = weighted_averaging_filter(car_image, k)\n",
    "\n",
    "    median_noise = median_filter(noise_image, k)\n",
    "    median_car = median_filter(car_image, k)\n",
    "\n",
    "    # Display results\n",
    "    cv2.imshow(f\"Averaging Filter ({k}x{k}) - Noise\", avg_noise)\n",
    "    cv2.imshow(f\"Averaging Filter ({k}x{k}) - Car\", avg_car)\n",
    "\n",
    "    cv2.imshow(f\"Weighted Avg Filter ({k}x{k}) - Noise\", weighted_avg_noise)\n",
    "    cv2.imshow(f\"Weighted Avg Filter ({k}x{k}) - Car\", weighted_avg_car)\n",
    "\n",
    "    cv2.imshow(f\"Median Filter ({k}x{k}) - Noise\", median_noise)\n",
    "    cv2.imshow(f\"Median Filter ({k}x{k}) - Car\", median_car)\n",
    "\n",
    "# Find optimum median filter size for noise.tif\n",
    "best_size = 3  # Start with 3x3\n",
    "best_image = noise_image  # Placeholder\n",
    "\n",
    "for size in [3, 5, 7, 9]:\n",
    "    filtered = median_filter(noise_image, size)\n",
    "    cv2.imshow(f\"Median Filter ({size}x{size}) - Noise\", filtered)\n",
    "\n",
    "    # Check visually which one is the best\n",
    "    if size == 5:  # Example: assume 5x5 is the best by observation\n",
    "        best_size = size\n",
    "        best_image = filtered\n",
    "\n",
    "print(f\"Optimum kernel size for noise.tif: {best_size}\")\n",
    "\n",
    "cv2.waitKey(0)\n",
    "cv2.destroyAllWindows()\n"
   ]
  },
  {
   "cell_type": "code",
   "execution_count": null,
   "id": "9c81e551-05df-4bc4-b4ff-0a383f76b09a",
   "metadata": {},
   "outputs": [],
   "source": []
  }
 ],
 "metadata": {
  "kernelspec": {
   "display_name": "Python 3",
   "language": "python",
   "name": "python3"
  },
  "language_info": {
   "codemirror_mode": {
    "name": "ipython",
    "version": 3
   },
   "file_extension": ".py",
   "mimetype": "text/x-python",
   "name": "python",
   "nbconvert_exporter": "python",
   "pygments_lexer": "ipython3",
   "version": "3.12.2"
  }
 },
 "nbformat": 4,
 "nbformat_minor": 5
}
