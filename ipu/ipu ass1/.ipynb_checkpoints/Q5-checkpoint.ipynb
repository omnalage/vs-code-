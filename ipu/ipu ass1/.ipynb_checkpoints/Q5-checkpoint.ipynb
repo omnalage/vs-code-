{
 "cells": [
  {
   "cell_type": "code",
   "execution_count": 2,
   "id": "1a05ec73-dfb3-43fd-bd13-11228a6e6899",
   "metadata": {},
   "outputs": [],
   "source": [
    "import cv2\n",
    "import numpy as np\n",
    "\n",
    "# Load the scene and object images\n",
    "scene = cv2.imread(\"img61.jpg\")\n",
    "object_img = cv2.imread(\"Sample_Image.jpg\")\n",
    "\n",
    "# Resize the object image to match the scene's dimensions\n",
    "object_resized = cv2.resize(object_img, (scene.shape[1], scene.shape[0]))\n",
    "\n",
    "# Convert the object image to grayscale for masking\n",
    "gray_object = cv2.cvtColor(object_resized, cv2.COLOR_BGR2GRAY)\n",
    "\n",
    "# Create a binary mask where the object is not white (assumes a white background)\n",
    "_, mask = cv2.threshold(gray_object, 240, 255, cv2.THRESH_BINARY_INV)\n",
    "\n",
    "# Invert mask to get the background\n",
    "mask_inv = cv2.bitwise_not(mask)\n",
    "\n",
    "# Use bitwise operations to keep only the object in the foreground\n",
    "scene_bg = cv2.bitwise_and(scene, scene, mask=mask_inv)\n",
    "object_fg = cv2.bitwise_and(object_resized, object_resized, mask=mask)\n",
    "\n",
    "# Combine the object with the scene\n",
    "composite_image = cv2.add(scene_bg, object_fg)\n",
    "\n",
    "# Display the final composite image\n",
    "cv2.imshow(\"Composite Image\", composite_image)\n",
    "cv2.waitKey(0)\n",
    "cv2.destroyAllWindows()\n"
   ]
  },
  {
   "cell_type": "code",
   "execution_count": null,
   "id": "da2cdf54-9908-422c-9d94-f3c2b358c625",
   "metadata": {},
   "outputs": [],
   "source": []
  }
 ],
 "metadata": {
  "kernelspec": {
   "display_name": "Python 3",
   "language": "python",
   "name": "python3"
  },
  "language_info": {
   "codemirror_mode": {
    "name": "ipython",
    "version": 3
   },
   "file_extension": ".py",
   "mimetype": "text/x-python",
   "name": "python",
   "nbconvert_exporter": "python",
   "pygments_lexer": "ipython3",
   "version": "3.12.2"
  }
 },
 "nbformat": 4,
 "nbformat_minor": 5
}
