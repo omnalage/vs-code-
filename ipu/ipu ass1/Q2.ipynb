{
 "cells": [
  {
   "cell_type": "code",
   "execution_count": null,
   "id": "beece666-2683-4f4e-8890-e4333a0c3c27",
   "metadata": {},
   "outputs": [
    {
     "name": "stderr",
     "output_type": "stream",
     "text": [
      "2025-03-05 10:48:18.114 Python[55195:4185677] +[IMKClient subclass]: chose IMKClient_Modern\n",
      "2025-03-05 10:48:18.114 Python[55195:4185677] +[IMKInputSession subclass]: chose IMKInputSession_Modern\n"
     ]
    }
   ],
   "source": [
    "#TEMPLATE MATCHING BY CONVERTING TO GRAYSCALE\n",
    "\n",
    "import cv2\n",
    "import numpy as np\n",
    "\n",
    "image = cv2.imread(\"hills.jpeg\")\n",
    "template = cv2.imread(\"template.png\")\n",
    "\n",
    "gray_image = cv2.cvtColor(image,cv2.COLOR_BGR2GRAY)\n",
    "gray_template = cv2.cvtColor(template,cv2.COLOR_BGR2GRAY)\n",
    "\n",
    "h,w = gray_template.shape     #getting dimensions of the template\n",
    "\n",
    "#template matching using normalised cross correlation\n",
    "result = cv2.matchTemplate(gray_image,gray_template,cv2.TM_CCOEFF_NORMED)\n",
    "\n",
    "#find the best matching location\n",
    "min_val,max_val,min_loc,max_loc = cv2.minMaxLoc(result)\n",
    "\n",
    "top_left = max_loc\n",
    "bottom_right = (top_left[0]+w,top_left[1]+h)\n",
    "\n",
    "cv2.imshow(\"Origional Image\",image)\n",
    "cv2.imshow(\"Template Image\",template)\n",
    "\n",
    "#make bounding box\n",
    "cv2.rectangle(image,top_left,bottom_right,(0,0,255),2)\n",
    "\n",
    "cv2.imshow(\"Detected Template Match\",image)\n",
    "\n",
    "cv2.waitKey(0)\n",
    "cv2.destroyAllWindows()"
   ]
  },
  {
   "cell_type": "code",
   "execution_count": null,
   "id": "57284f38-dc7a-4652-96a5-568dfa81958f",
   "metadata": {},
   "outputs": [],
   "source": [
    "#TEMPLATE MATCHING IN COLOR IMAGE ITSELF\n",
    "\n",
    "import cv2\n",
    "import numpy as np\n",
    "\n",
    "image = cv2.imread(\"hills.jpeg\")\n",
    "template = cv2.imread(\"template.png\")\n",
    "\n",
    "h,w,_ = template.shape     #getting dimensions of the template\n",
    "\n",
    "#template matching using normalised cross correlation\n",
    "result = cv2.matchTemplate(image,template,cv2.TM_CCOEFF_NORMED)\n",
    "\n",
    "#find the best matching location\n",
    "min_val,max_val,min_loc,max_loc = cv2.minMaxLoc(result)\n",
    "\n",
    "top_left = max_loc\n",
    "bottom_right = (top_left[0]+w,top_left[1]+h)\n",
    "\n",
    "cv2.imshow(\"Origional Image\",image)\n",
    "cv2.imshow(\"Template Image\",template)\n",
    "\n",
    "#make bounding box\n",
    "cv2.rectangle(image,top_left,bottom_right,(0,0,255),2)\n",
    "\n",
    "cv2.imshow(\"Detected Template Match\",image)\n",
    "\n",
    "cv2.waitKey(0)\n",
    "cv2.destroyAllWindows()"
   ]
  },
  {
   "cell_type": "code",
   "execution_count": null,
   "id": "142cdbc5-2fa4-4d9e-ba5c-9711a4c130e7",
   "metadata": {},
   "outputs": [],
   "source": []
  }
 ],
 "metadata": {
  "kernelspec": {
   "display_name": "Python 3 (ipykernel)",
   "language": "python",
   "name": "python3"
  },
  "language_info": {
   "codemirror_mode": {
    "name": "ipython",
    "version": 3
   },
   "file_extension": ".py",
   "mimetype": "text/x-python",
   "name": "python",
   "nbconvert_exporter": "python",
   "pygments_lexer": "ipython3",
   "version": "3.13.1"
  }
 },
 "nbformat": 4,
 "nbformat_minor": 5
}
