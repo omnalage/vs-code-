{
 "cells": [
  {
   "cell_type": "code",
   "execution_count": null,
   "id": "3ddad12b-1631-4596-81ea-e62fec864a52",
   "metadata": {},
   "outputs": [
    {
     "name": "stderr",
     "output_type": "stream",
     "text": [
      "2025-03-05 10:59:16.704 Python[55403:4194946] +[IMKClient subclass]: chose IMKClient_Modern\n",
      "2025-03-05 10:59:16.704 Python[55403:4194946] +[IMKInputSession subclass]: chose IMKInputSession_Modern\n"
     ]
    }
   ],
   "source": [
    "import cv2\n",
    "import numpy as np\n",
    "\n",
    "# Load the image\n",
    "image = cv2.imread(\"coins.jpeg\")\n",
    "\n",
    "# Convert image to grayscale\n",
    "gray = cv2.cvtColor(image, cv2.COLOR_BGR2GRAY)\n",
    "\n",
    "# Normalize image to [0,1] range\n",
    "gray_norm = gray.astype(np.float32) / 255.0\n",
    "\n",
    "# Define a structuring element (kernel) for morphological operations\n",
    "kernel = cv2.getStructuringElement(cv2.MORPH_RECT, (5, 5))\n",
    "\n",
    "# Morphological Gradient (Edge detection using dilation - erosion)\n",
    "morph_gradient = cv2.morphologyEx(gray, cv2.MORPH_GRADIENT, kernel)\n",
    "\n",
    "# Top-Hat (Extract bright regions)\n",
    "tophat = cv2.morphologyEx(gray, cv2.MORPH_TOPHAT, kernel)\n",
    "\n",
    "# Black-Hat (Extract dark regions)\n",
    "blackhat = cv2.morphologyEx(gray, cv2.MORPH_BLACKHAT, kernel)\n",
    "\n",
    "# Sobel Edge Detection\n",
    "sobel_x = cv2.Sobel(gray, cv2.CV_64F, 1, 0, ksize=3)\n",
    "sobel_y = cv2.Sobel(gray, cv2.CV_64F, 0, 1, ksize=3)\n",
    "sobel_combined = cv2.magnitude(sobel_x, sobel_y)  # Compute magnitude\n",
    "\n",
    "# Canny Edge Detection\n",
    "canny_edges = cv2.Canny(gray, 100, 200)\n",
    "\n",
    "# Display results\n",
    "cv2.imshow(\"Original Image\", image)\n",
    "cv2.imshow(\"Morphological Gradient (Edges)\", morph_gradient)\n",
    "cv2.imshow(\"Top-Hat Transformation\", tophat)\n",
    "cv2.imshow(\"Black-Hat Transformation\", blackhat)\n",
    "cv2.imshow(\"Sobel Edge Detection\", np.uint8(sobel_combined))  # Convert for display\n",
    "cv2.imshow(\"Canny Edge Detection\", canny_edges)\n",
    "\n",
    "cv2.waitKey(0)\n",
    "cv2.destroyAllWindows()"
   ]
  },
  {
   "cell_type": "code",
   "execution_count": null,
   "id": "a6cd0010-fc4a-49d4-9bd1-0c72364b0fcc",
   "metadata": {},
   "outputs": [],
   "source": []
  }
 ],
 "metadata": {
  "kernelspec": {
   "display_name": "Python 3 (ipykernel)",
   "language": "python",
   "name": "python3"
  },
  "language_info": {
   "codemirror_mode": {
    "name": "ipython",
    "version": 3
   },
   "file_extension": ".py",
   "mimetype": "text/x-python",
   "name": "python",
   "nbconvert_exporter": "python",
   "pygments_lexer": "ipython3",
   "version": "3.13.1"
  }
 },
 "nbformat": 4,
 "nbformat_minor": 5
}
